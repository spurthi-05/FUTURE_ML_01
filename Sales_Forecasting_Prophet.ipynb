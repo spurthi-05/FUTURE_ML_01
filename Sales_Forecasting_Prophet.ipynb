{
 "cells": [
  {
   "cell_type": "markdown",
   "id": "e23d0c57",
   "metadata": {},
   "source": [
    "# 🧠 Sales Forecasting with Prophet\n",
    "This notebook demonstrates Task 1 for Future Interns ML Internship."
   ]
  },
  {
   "cell_type": "code",
   "execution_count": null,
   "id": "77abaf82",
   "metadata": {},
   "outputs": [],
   "source": [
    "\n",
    "!pip install prophet --quiet\n",
    "import pandas as pd\n",
    "import matplotlib.pyplot as plt\n",
    "from prophet import Prophet\n",
    "\n",
    "# Load dataset\n",
    "df = pd.read_csv(\"sales_data.csv\")\n",
    "df = df.rename(columns={\"Date\":\"ds\",\"Sales\":\"y\"})\n",
    "df['ds'] = pd.to_datetime(df['ds'])\n",
    "\n",
    "# Fit model\n",
    "model = Prophet()\n",
    "model.fit(df)\n",
    "\n",
    "# Forecast next 30 days\n",
    "future = model.make_future_dataframe(periods=30)\n",
    "forecast = model.predict(future)\n",
    "\n",
    "# Plot forecast\n",
    "model.plot(forecast)\n",
    "plt.show()\n",
    "\n",
    "# Components\n",
    "model.plot_components(forecast)\n",
    "plt.show()\n"
   ]
  }
 ],
 "metadata": {},
 "nbformat": 4,
 "nbformat_minor": 5
}
